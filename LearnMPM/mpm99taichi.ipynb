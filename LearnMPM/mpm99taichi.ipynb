{
 "cells": [
  {
   "cell_type": "markdown",
   "metadata": {},
   "source": [
    "# MPM Code using Taichi"
   ]
  },
  {
   "cell_type": "code",
   "execution_count": 21,
   "metadata": {},
   "outputs": [
    {
     "name": "stdout",
     "output_type": "stream",
     "text": [
      "Defaulting to user installation because normal site-packages is not writeable\n",
      "Requirement already satisfied: taichi in /home/justinbonus/.local/lib/python3.6/site-packages (1.0.4)\n",
      "Requirement already satisfied: astunparse in /home/justinbonus/.local/lib/python3.6/site-packages (from taichi) (1.6.3)\n",
      "Requirement already satisfied: sourceinspect>=0.0.4 in /home/justinbonus/.local/lib/python3.6/site-packages (from taichi) (0.0.4)\n",
      "Requirement already satisfied: colorama in /usr/local/lib/python3.6/dist-packages (from taichi) (0.4.5)\n",
      "Requirement already satisfied: numpy in /home/justinbonus/.local/lib/python3.6/site-packages (from taichi) (1.19.5)\n",
      "Requirement already satisfied: rich in /home/justinbonus/.local/lib/python3.6/site-packages (from taichi) (12.6.0)\n",
      "Requirement already satisfied: dill in /home/justinbonus/.local/lib/python3.6/site-packages (from sourceinspect>=0.0.4->taichi) (0.3.4)\n",
      "Requirement already satisfied: wheel<1.0,>=0.23.0 in /usr/lib/python3/dist-packages (from astunparse->taichi) (0.30.0)\n",
      "Requirement already satisfied: six<2.0,>=1.6.1 in /usr/lib/python3/dist-packages (from astunparse->taichi) (1.11.0)\n",
      "Requirement already satisfied: dataclasses<0.9,>=0.7 in /home/justinbonus/.local/lib/python3.6/site-packages (from rich->taichi) (0.8)\n",
      "Requirement already satisfied: commonmark<0.10.0,>=0.9.0 in /home/justinbonus/.local/lib/python3.6/site-packages (from rich->taichi) (0.9.1)\n",
      "Requirement already satisfied: pygments<3.0.0,>=2.6.0 in /usr/local/lib/python3.6/dist-packages (from rich->taichi) (2.14.0)\n",
      "Requirement already satisfied: typing-extensions<5.0,>=4.0.0 in /home/justinbonus/.local/lib/python3.6/site-packages (from rich->taichi) (4.1.1)\n",
      "Defaulting to user installation because normal site-packages is not writeable\n",
      "Collecting ffmpeg\n",
      "  Downloading ffmpeg-1.4.tar.gz (5.1 kB)\n",
      "  Preparing metadata (setup.py) ... \u001b[?25ldone\n",
      "\u001b[?25hBuilding wheels for collected packages: ffmpeg\n",
      "  Building wheel for ffmpeg (setup.py) ... \u001b[?25ldone\n",
      "\u001b[?25h  Created wheel for ffmpeg: filename=ffmpeg-1.4-py3-none-any.whl size=6812 sha256=5a97d47f07db2ff89c6bde42e57a9b403d47888f336dff964a286ce4949c9527\n",
      "  Stored in directory: /home/justinbonus/.cache/pip/wheels/aa/0d/3c/5a9cbae53044e993a211358ddae115ce34bcbc29f7a3bd9155\n",
      "Successfully built ffmpeg\n",
      "Installing collected packages: ffmpeg\n",
      "Successfully installed ffmpeg-1.4\n",
      "Defaulting to user installation because normal site-packages is not writeable\n",
      "Requirement already satisfied: imageio in /home/justinbonus/.local/lib/python3.6/site-packages (2.15.0)\n",
      "Requirement already satisfied: pillow>=8.3.2 in /home/justinbonus/.local/lib/python3.6/site-packages (from imageio) (8.4.0)\n",
      "Requirement already satisfied: numpy in /home/justinbonus/.local/lib/python3.6/site-packages (from imageio) (1.19.5)\n",
      "Requirement already satisfied: taichi in /home/justinbonus/HydroUQ_venv/venv3.9.16/lib/python3.9/site-packages (1.7.1)\n",
      "Requirement already satisfied: numpy in /home/justinbonus/HydroUQ_venv/venv3.9.16/lib/python3.9/site-packages (from taichi) (1.21.1)\n",
      "Requirement already satisfied: colorama in /home/justinbonus/HydroUQ_venv/venv3.9.16/lib/python3.9/site-packages (from taichi) (0.3.7)\n",
      "Requirement already satisfied: dill in /home/justinbonus/HydroUQ_venv/venv3.9.16/lib/python3.9/site-packages (from taichi) (0.3.8)\n",
      "Requirement already satisfied: rich in /home/justinbonus/HydroUQ_venv/venv3.9.16/lib/python3.9/site-packages (from taichi) (13.7.1)\n",
      "Requirement already satisfied: markdown-it-py>=2.2.0 in /home/justinbonus/HydroUQ_venv/venv3.9.16/lib/python3.9/site-packages (from rich->taichi) (3.0.0)\n",
      "Requirement already satisfied: pygments<3.0.0,>=2.13.0 in /home/justinbonus/HydroUQ_venv/venv3.9.16/lib/python3.9/site-packages (from rich->taichi) (2.17.2)\n",
      "Requirement already satisfied: mdurl~=0.1 in /home/justinbonus/HydroUQ_venv/venv3.9.16/lib/python3.9/site-packages (from markdown-it-py>=2.2.0->rich->taichi) (0.1.2)\n"
     ]
    }
   ],
   "source": [
    "!python3.6 -m pip install taichi\n",
    "!python3.6 -m pip install ffmpeg\n",
    "!python3.6 -m pip install imageio\n",
    "!python -m pip install taichi"
   ]
  },
  {
   "cell_type": "code",
   "execution_count": null,
   "metadata": {},
   "outputs": [],
   "source": [
    "# Import taichi and required python dependencies\n",
    "# ==============================================\n",
    "import taichi\n",
    "import taichi as ti\n",
    "from taichi import tools\n",
    "import numpy as np\n",
    "import platform # For getting the operating system name, taichi may already have something for this\n",
    "import os\n",
    "import json\n",
    "import math\n",
    "import imageio\n",
    "import time as T\n",
    "import ffmpeg\n",
    "from matplotlib import cm"
   ]
  },
  {
   "cell_type": "code",
   "execution_count": 48,
   "metadata": {},
   "outputs": [],
   "source": [
    "import os\n",
    "os.makedirs(\"taichi-output\")"
   ]
  },
  {
   "cell_type": "code",
   "execution_count": 23,
   "metadata": {},
   "outputs": [
    {
     "name": "stdout",
     "output_type": "stream",
     "text": [
      "[Taichi] Starting on arch=cuda\n"
     ]
    }
   ],
   "source": [
    "# Initialize Taichi and MPM domain\n",
    "# ================================\n",
    "ti.init(arch=ti.gpu)  # Try to run on GPU\n",
    "quality = 1  # Use a larger value for higher-res simulations\n",
    "n_particles_direction = 100\n",
    "dim = 2\n",
    "n_particles, n_grid = (n_particles_direction ** dim) * quality**dim, 128 * quality\n",
    "dx, inv_dx = 1 / n_grid, float(n_grid)\n",
    "dt = 2e-5 / quality\n",
    "p_vol, p_rho = (dx * 0.5) ** 2, 1\n",
    "p_mass = p_vol * p_rho\n",
    "E, nu = 5e4, 0.2  # Young's modulus and Poisson's ratio\n",
    "mu_0, lambda_0 = E / (2 * (1 + nu)), E * nu / ((1 + nu) * (1 - 2 * nu))  # Lame parameters\n",
    "x = ti.Vector.field(2, dtype=float, shape=n_particles)  # position\n",
    "v = ti.Vector.field(2, dtype=float, shape=n_particles)  # velocity\n",
    "C = ti.Matrix.field(2, 2, dtype=float, shape=n_particles)  # affine velocity field\n",
    "F = ti.Matrix.field(2, 2, dtype=float, shape=n_particles)  # deformation gradient\n",
    "material = ti.field(dtype=int, shape=n_particles)  # material id\n",
    "Jp = ti.field(dtype=float, shape=n_particles)  # plastic deformation\n",
    "grid_v = ti.Vector.field(2, dtype=float, shape=(n_grid, n_grid))  # grid node momentum/velocitypip\n",
    "grid_m = ti.field(dtype=float, shape=(n_grid, n_grid))  # grid node mass\n",
    "\n",
    "rgba = ti.Vector.field(4, dtype=ti.f32, shape=(n_particles_direction, n_particles_direction ))"
   ]
  },
  {
   "cell_type": "code",
   "execution_count": 24,
   "metadata": {},
   "outputs": [],
   "source": [
    "# Define Taichi Kernel performing MPM loop\n",
    "# ========================================\n",
    "@ti.kernel\n",
    "def substep():\n",
    "    for i, j in grid_m:\n",
    "        grid_v[i, j] = [0, 0]\n",
    "        grid_m[i, j] = 0\n",
    "    for p in x:  # Particle state update and scatter to grid (P2G)\n",
    "        base = (x[p] * inv_dx - 0.5).cast(int)\n",
    "        fx = x[p] * inv_dx - base.cast(float)\n",
    "        # Quadratic kernels  [http://mpm.graphics   Eqn. 123, with x=fx, fx-1,fx-2]\n",
    "        w = [0.5 * (1.5 - fx) ** 2, 0.75 - (fx - 1) ** 2, 0.5 * (fx - 0.5) ** 2]\n",
    "        # F[p]: deformation gradient update\n",
    "        F[p] = (ti.Matrix.identity(float, 2) + dt * C[p]) @ F[p]\n",
    "        # h: Hardening coefficient: snow gets harder when compressed\n",
    "        h = ti.exp(10 * (1.0 - Jp[p]))\n",
    "        if material[p] == 2:  # Snow\n",
    "            h *= 0.1\n",
    "        if material[p] == 1:  # jelly, make it softer\n",
    "            h = 1.0\n",
    "            \n",
    "        mu, la = mu_0 * h, lambda_0 * h\n",
    "        \n",
    "        if material[p] == 0:  # liquid\n",
    "            mu = 0.0\n",
    "        U, sig, V = ti.svd(F[p])\n",
    "        # Avoid zero eigenvalues because of numerical errors\n",
    "        for d in ti.static(range(2)):\n",
    "            sig[d, d] = ti.max(sig[d, d], 1e-6)\n",
    "        J = 1.0\n",
    "        for d in ti.static(range(2)):\n",
    "            new_sig = sig[d, d]\n",
    "            if material[p] == 2:  # Snow\n",
    "                new_sig = ti.min(ti.max(sig[d, d], 1 - 2.5e-2), 1 + 4.5e-3)  # Plasticity\n",
    "            Jp[p] *= sig[d, d] / new_sig\n",
    "            sig[d, d] = new_sig\n",
    "            J *= new_sig\n",
    "        if material[p] == 0:\n",
    "            # Reset deformation gradient to avoid numerical instability\n",
    "            F[p] = ti.Matrix.identity(float, 2) * ti.sqrt(J)\n",
    "        elif material[p] == 2:\n",
    "            # Reconstruct elastic deformation gradient after plasticity\n",
    "            F[p] = U @ sig @ V.transpose()\n",
    "        stress = 2 * mu * (F[p] - U @ V.transpose()) @ F[p].transpose() + ti.Matrix.identity(float, 2) * la * J * (\n",
    "            J - 1\n",
    "        )\n",
    "        stress = (-dt * p_vol * 4 * inv_dx * inv_dx) * stress\n",
    "        affine = stress + p_mass * C[p]\n",
    "        # Loop over 3x3 grid node neighborhood\n",
    "        for i, j in ti.static(ti.ndrange(3, 3)):\n",
    "            offset = ti.Vector([i, j])\n",
    "            dpos = (offset.cast(float) - fx) * dx\n",
    "            weight = w[i][0] * w[j][1]\n",
    "            grid_v[base + offset] += weight * (p_mass * v[p] + affine @ dpos)\n",
    "            grid_m[base + offset] += weight * p_mass\n",
    "    for i, j in grid_m:\n",
    "        if grid_m[i, j] > 0:  # No need for epsilon here\n",
    "            grid_v[i, j] = (1 / grid_m[i, j]) * grid_v[i, j]  # Momentum to velocity\n",
    "            grid_v[i, j][1] -= dt * 50  # gravity\n",
    "            if i < 3 and grid_v[i, j][0] < 0:\n",
    "                grid_v[i, j][0] = 0  # Boundary conditions\n",
    "            if i > n_grid - 3 and grid_v[i, j][0] > 0:\n",
    "                grid_v[i, j][0] = 0\n",
    "            if j < 3 and grid_v[i, j][1] < 0:\n",
    "                grid_v[i, j][1] = 0\n",
    "            if j > n_grid - 3 and grid_v[i, j][1] > 0:\n",
    "                grid_v[i, j][1] = 0\n",
    "    for p in x:  # grid to particle (G2P)\n",
    "        base = (x[p] * inv_dx - 0.5).cast(int)\n",
    "        fx = x[p] * inv_dx - base.cast(float)\n",
    "        w = [0.5 * (1.5 - fx) ** 2, 0.75 - (fx - 1.0) ** 2, 0.5 * (fx - 0.5) ** 2]\n",
    "        new_v = ti.Vector.zero(float, 2)\n",
    "        new_C = ti.Matrix.zero(float, 2, 2)\n",
    "        for i, j in ti.static(ti.ndrange(3, 3)):\n",
    "            # loop over 3x3 grid node neighborhood\n",
    "            dpos = ti.Vector([i, j]).cast(float) - fx\n",
    "            g_v = grid_v[base + ti.Vector([i, j])]\n",
    "            weight = w[i][0] * w[j][1]\n",
    "            new_v += weight * g_v\n",
    "            new_C += 4 * inv_dx * weight * g_v.outer_product(dpos)\n",
    "        v[p], C[p] = new_v, new_C\n",
    "        x[p] += dt * v[p]  # advection\n",
    "\n",
    "group_size = n_particles // 3"
   ]
  },
  {
   "cell_type": "code",
   "execution_count": 25,
   "metadata": {},
   "outputs": [],
   "source": [
    "# Taichi Kernel for MPM initialization\n",
    "# ====================================\n",
    "@ti.kernel\n",
    "def initialize():\n",
    "    for i in range(n_particles):\n",
    "        x[i] = [\n",
    "            ti.random() * 0.2 + 0.3 + 0.10 * (i // group_size),\n",
    "            ti.random() * 0.2 + 0.05 + 0.32 * (i // group_size),\n",
    "        ]\n",
    "        material[i] = i // group_size  # 0: fluid 1: jelly 2: snow\n",
    "        v[i] = ti.Matrix([0, 0])\n",
    "        F[i] = ti.Matrix([[1, 0], [0, 1]])\n",
    "        Jp[i] = 1"
   ]
  },
  {
   "cell_type": "code",
   "execution_count": 26,
   "metadata": {},
   "outputs": [],
   "source": [
    "# Taichi Kernel for\n",
    "# =================\n",
    "@ti.kernel\n",
    "def fill_rgba():\n",
    "    for i, j in rgba:\n",
    "        rgba[i, j] = ti.Vector(\n",
    "            [ti.random(), ti.random(), ti.random(), ti.random()])\n",
    "\n",
    "pixels = ti.field(ti.u8, shape=(512, 512, 3))"
   ]
  },
  {
   "cell_type": "code",
   "execution_count": 27,
   "metadata": {},
   "outputs": [],
   "source": [
    "# Taichi Kernel for paiting MPM objects\n",
    "# =====================================\n",
    "@ti.kernel\n",
    "def paint():\n",
    "    for i, j, k in pixels:\n",
    "        pixels[i, j, k] = ti.random() * 255"
   ]
  },
  {
   "cell_type": "markdown",
   "metadata": {},
   "source": [
    "# Run MPM code"
   ]
  },
  {
   "cell_type": "code",
   "execution_count": 49,
   "metadata": {},
   "outputs": [],
   "source": [
    "# Main Problem loop\n",
    "# =================\n",
    "def main():\n",
    "    initialize()\n",
    "    #gui = ti.GUI(\"Taichi MLS-MPM-99\", res=512, background_color=0x112F41)\n",
    "    #while not gui.get_event(ti.GUI.ESCAPE, ti.GUI.EXIT):\n",
    "    #for s in range(int(2e-3 // dt)):\n",
    "    #    substep()\n",
    "        #gui.circles(\n",
    "        #    x.to_numpy(),\n",
    "        #    radius=1.5,\n",
    "        #    palette=[0x068587, 0xED553B, 0xEEEEF0],\n",
    "        #    palette_indices=material,\n",
    "        #)\n",
    "        # Change to gui.show(f'{frame:06d}.png') to write images to disk\n",
    "        #gui.show()\n",
    "\n",
    "    series_prefix = \"mpm99_particles.ply\"\n",
    "    max_frames = 70\n",
    "    for frame in range(max_frames):\n",
    "        im = np.ones((4 * n_grid, 4 * n_grid, 3),dtype=np.uint8)*(0x112F41)\n",
    "        \n",
    "        steps_per_frame = int(1e-2 // dt)\n",
    "        for s in range(steps_per_frame):\n",
    "            substep()\n",
    "            \n",
    "        print(\"Frame: \", frame, \" / \", max_frames)\n",
    "\n",
    "        fill_rgba()\n",
    "        # now adding each channel only supports passing individual np.array\n",
    "        # so converting into np.ndarray, reshape\n",
    "        # remember to use a temp var to store so you dont have to convert back\n",
    "        np_pos = np.reshape(x.to_numpy(), (n_particles, 2))\n",
    "        np_rgba = np.reshape(rgba.to_numpy(), (n_particles, 4))\n",
    "        np_pixels = np.reshape(pixels.to_numpy(), (512, 512, 3))\n",
    "\n",
    "\n",
    "        palette=[[0,0,125], [125,0,0],[240,240,240],[125,0,125],[125,125,0],[125,125,125]] # red, green, blue, cyan, yellow, white\n",
    "\n",
    "        for p in range(np_pos.shape[0]):\n",
    "            xc = np_pos[p][0]\n",
    "            yc = np_pos[p][1]\n",
    "            buffer_on_side = 32\n",
    "            grid_length = float( (n_grid + 1) / (n_grid * 0.9))\n",
    "            im[min(4*n_grid-1,math.floor(xc * n_grid * 4 / grid_length)), min(4*n_grid-1,math.floor(yc * n_grid * 4 / grid_length)), :] = np.array(palette[material[p]],dtype=np.uint8)[:]\n",
    "\n",
    "\n",
    "        np_im = np.array(im, dtype=np.uint8)\n",
    "\n",
    "        # # create a PLYWriter\n",
    "        # writer = ti.tools.PLYWriter(num_vertices=n_particles)\n",
    "        # writer.add_vertex_pos(np_pos[:, 0], np_pos[:, 1], np.zeros((np_pos.shape[0],)))\n",
    "        # writer.add_vertex_rgba(\n",
    "        # np_rgba[:, 0], np_rgba[:, 1], np_rgba[:, 2], np_rgba[:, 3])\n",
    "        # writer.export_frame_ascii(frame, series_prefix)\n",
    "        \n",
    "        ti.tools.imwrite(np_im, f'taichi-output/frame_{frame:06d}.png')\n",
    "#         ti.tools.imwrite(np_im, f'frame_{frame:06d}.png')"
   ]
  },
  {
   "cell_type": "code",
   "execution_count": 50,
   "metadata": {},
   "outputs": [
    {
     "name": "stdout",
     "output_type": "stream",
     "text": [
      "Frame:  0  /  70\n",
      "Frame:  1  /  70\n",
      "Frame:  2  /  70\n",
      "Frame:  3  /  70\n",
      "Frame:  4  /  70\n",
      "Frame:  5  /  70\n",
      "Frame:  6  /  70\n",
      "Frame:  7  /  70\n",
      "Frame:  8  /  70\n",
      "Frame:  9  /  70\n",
      "Frame:  10  /  70\n",
      "Frame:  11  /  70\n",
      "Frame:  12  /  70\n",
      "Frame:  13  /  70\n",
      "Frame:  14  /  70\n",
      "Frame:  15  /  70\n",
      "Frame:  16  /  70\n",
      "Frame:  17  /  70\n",
      "Frame:  18  /  70\n",
      "Frame:  19  /  70\n",
      "Frame:  20  /  70\n",
      "Frame:  21  /  70\n",
      "Frame:  22  /  70\n",
      "Frame:  23  /  70\n",
      "Frame:  24  /  70\n",
      "Frame:  25  /  70\n",
      "Frame:  26  /  70\n",
      "Frame:  27  /  70\n",
      "Frame:  28  /  70\n",
      "Frame:  29  /  70\n",
      "Frame:  30  /  70\n",
      "Frame:  31  /  70\n",
      "Frame:  32  /  70\n",
      "Frame:  33  /  70\n",
      "Frame:  34  /  70\n",
      "Frame:  35  /  70\n",
      "Frame:  36  /  70\n",
      "Frame:  37  /  70\n",
      "Frame:  38  /  70\n",
      "Frame:  39  /  70\n",
      "Frame:  40  /  70\n",
      "Frame:  41  /  70\n",
      "Frame:  42  /  70\n",
      "Frame:  43  /  70\n",
      "Frame:  44  /  70\n",
      "Frame:  45  /  70\n",
      "Frame:  46  /  70\n",
      "Frame:  47  /  70\n",
      "Frame:  48  /  70\n",
      "Frame:  49  /  70\n",
      "Frame:  50  /  70\n",
      "Frame:  51  /  70\n",
      "Frame:  52  /  70\n",
      "Frame:  53  /  70\n",
      "Frame:  54  /  70\n",
      "Frame:  55  /  70\n",
      "Frame:  56  /  70\n",
      "Frame:  57  /  70\n",
      "Frame:  58  /  70\n",
      "Frame:  59  /  70\n",
      "Frame:  60  /  70\n",
      "Frame:  61  /  70\n",
      "Frame:  62  /  70\n",
      "Frame:  63  /  70\n",
      "Frame:  64  /  70\n",
      "Frame:  65  /  70\n",
      "Frame:  66  /  70\n",
      "Frame:  67  /  70\n",
      "Frame:  68  /  70\n",
      "Frame:  69  /  70\n"
     ]
    }
   ],
   "source": [
    "main()"
   ]
  },
  {
   "cell_type": "markdown",
   "metadata": {},
   "source": [
    "# Create GIF animation"
   ]
  },
  {
   "cell_type": "code",
   "execution_count": 33,
   "metadata": {},
   "outputs": [],
   "source": [
    "import imageio as imageio\n",
    "# import imageio.v2 as imageio"
   ]
  },
  {
   "cell_type": "code",
   "execution_count": 34,
   "metadata": {},
   "outputs": [],
   "source": [
    "def create_gif_from_pngs(png_directory, output_gif_path, duration):\n",
    "    # Get all PNG files in the directory\n",
    "    png_files = sorted([os.path.join(png_directory, f) for f in os.listdir(png_directory) if f.endswith('.png')])\n",
    "\n",
    "    # Check if the directory contains PNG files\n",
    "    if not png_files:\n",
    "        raise ValueError(f\"No PNG files found in {png_directory}\")\n",
    "\n",
    "    # Create list of images\n",
    "    images = []\n",
    "    for png_file in png_files:\n",
    "        images.append(imageio.imread(png_file))\n",
    "\n",
    "    # Write GIF\n",
    "    imageio.mimsave(output_gif_path, images, duration=duration)\n",
    "\n",
    "    print(f\"GIF created successfully at {output_gif_path}\")"
   ]
  },
  {
   "cell_type": "code",
   "execution_count": 36,
   "metadata": {},
   "outputs": [
    {
     "name": "stdout",
     "output_type": "stream",
     "text": [
      "GIF created successfully at ./animation.gif\n"
     ]
    }
   ],
   "source": [
    "png_directory = 'taichi-output'\n",
    "output_gif_path = png_directory + 'animation.gif'\n",
    "\n",
    "# png_directory = './'\n",
    "# output_gif_path = png_directory + 'animation.gif'\n",
    "\n",
    "duration = 0.1  # Duration between frames in seconds\n",
    "\n",
    "create_gif_from_pngs(png_directory, output_gif_path, duration)"
   ]
  },
  {
   "cell_type": "markdown",
   "metadata": {},
   "source": [
    "![SegmentLocal](animation.gif \"segment\")\n"
   ]
  },
  {
   "cell_type": "code",
   "execution_count": 37,
   "metadata": {},
   "outputs": [
    {
     "ename": "ValueError",
     "evalue": "Cannot embed the 'gif' image format",
     "output_type": "error",
     "traceback": [
      "\u001b[0;31m---------------------------------------------------------------------------\u001b[0m",
      "\u001b[0;31mValueError\u001b[0m                                Traceback (most recent call last)",
      "\u001b[0;32m<ipython-input-37-56dd3af4f118>\u001b[0m in \u001b[0;36m<module>\u001b[0;34m()\u001b[0m\n\u001b[1;32m      2\u001b[0m \u001b[0;31m# gif_path = 'taichi-output/animation.gif'\u001b[0m\u001b[0;34m\u001b[0m\u001b[0;34m\u001b[0m\u001b[0;34m\u001b[0m\u001b[0m\n\u001b[1;32m      3\u001b[0m \u001b[0mgif_path\u001b[0m \u001b[0;34m=\u001b[0m \u001b[0moutput_gif_path\u001b[0m\u001b[0;34m\u001b[0m\u001b[0;34m\u001b[0m\u001b[0m\n\u001b[0;32m----> 4\u001b[0;31m \u001b[0mImage\u001b[0m\u001b[0;34m(\u001b[0m\u001b[0mfilename\u001b[0m\u001b[0;34m=\u001b[0m\u001b[0mgif_path\u001b[0m\u001b[0;34m)\u001b[0m\u001b[0;34m\u001b[0m\u001b[0;34m\u001b[0m\u001b[0m\n\u001b[0m",
      "\u001b[0;32m/usr/lib/python3/dist-packages/IPython/core/display.py\u001b[0m in \u001b[0;36m__init__\u001b[0;34m(self, data, url, filename, format, embed, width, height, retina, unconfined, metadata)\u001b[0m\n\u001b[1;32m   1013\u001b[0m \u001b[0;34m\u001b[0m\u001b[0m\n\u001b[1;32m   1014\u001b[0m         \u001b[0;32mif\u001b[0m \u001b[0mself\u001b[0m\u001b[0;34m.\u001b[0m\u001b[0membed\u001b[0m \u001b[0;32mand\u001b[0m \u001b[0mself\u001b[0m\u001b[0;34m.\u001b[0m\u001b[0mformat\u001b[0m \u001b[0;32mnot\u001b[0m \u001b[0;32min\u001b[0m \u001b[0mself\u001b[0m\u001b[0;34m.\u001b[0m\u001b[0m_ACCEPTABLE_EMBEDDINGS\u001b[0m\u001b[0;34m:\u001b[0m\u001b[0;34m\u001b[0m\u001b[0;34m\u001b[0m\u001b[0m\n\u001b[0;32m-> 1015\u001b[0;31m             \u001b[0;32mraise\u001b[0m \u001b[0mValueError\u001b[0m\u001b[0;34m(\u001b[0m\u001b[0;34m\"Cannot embed the '%s' image format\"\u001b[0m \u001b[0;34m%\u001b[0m \u001b[0;34m(\u001b[0m\u001b[0mself\u001b[0m\u001b[0;34m.\u001b[0m\u001b[0mformat\u001b[0m\u001b[0;34m)\u001b[0m\u001b[0;34m)\u001b[0m\u001b[0;34m\u001b[0m\u001b[0;34m\u001b[0m\u001b[0m\n\u001b[0m\u001b[1;32m   1016\u001b[0m         \u001b[0mself\u001b[0m\u001b[0;34m.\u001b[0m\u001b[0mwidth\u001b[0m \u001b[0;34m=\u001b[0m \u001b[0mwidth\u001b[0m\u001b[0;34m\u001b[0m\u001b[0;34m\u001b[0m\u001b[0m\n\u001b[1;32m   1017\u001b[0m         \u001b[0mself\u001b[0m\u001b[0;34m.\u001b[0m\u001b[0mheight\u001b[0m \u001b[0;34m=\u001b[0m \u001b[0mheight\u001b[0m\u001b[0;34m\u001b[0m\u001b[0;34m\u001b[0m\u001b[0m\n",
      "\u001b[0;31mValueError\u001b[0m: Cannot embed the 'gif' image format"
     ]
    }
   ],
   "source": [
    "from IPython.display import Image\n",
    "# gif_path = 'taichi-output/animation.gif'\n",
    "gif_path = output_gif_path\n",
    "Image(filename=gif_path)"
   ]
  },
  {
   "cell_type": "code",
   "execution_count": null,
   "metadata": {},
   "outputs": [],
   "source": []
  }
 ],
 "metadata": {
  "kernelspec": {
   "display_name": "Python 3 (ipykernel)",
   "language": "python",
   "name": "python3"
  },
  "language_info": {
   "codemirror_mode": {
    "name": "ipython",
    "version": 3
   },
   "file_extension": ".py",
   "mimetype": "text/x-python",
   "name": "python",
   "nbconvert_exporter": "python",
   "pygments_lexer": "ipython3",
   "version": "3.6.9"
  }
 },
 "nbformat": 4,
 "nbformat_minor": 5
}
